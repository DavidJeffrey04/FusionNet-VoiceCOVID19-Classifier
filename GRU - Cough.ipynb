{
 "cells": [
  {
   "cell_type": "markdown",
   "metadata": {
    "id": "I3KWrAkZAiUJ"
   },
   "source": [
    "# Importing Libraries"
   ]
  },
  {
   "cell_type": "code",
   "execution_count": 1,
   "metadata": {},
   "outputs": [],
   "source": [
    "# !pip install --upgrade librosa"
   ]
  },
  {
   "cell_type": "code",
   "execution_count": 1,
   "metadata": {
    "id": "88WdF1fVAboE"
   },
   "outputs": [
    {
     "name": "stdout",
     "output_type": "stream",
     "text": [
      "Using GPU: NVIDIA GeForce RTX 4060 Laptop GPU\n"
     ]
    }
   ],
   "source": [
    "# from google.colab import drive\n",
    "import zipfile\n",
    "import os\n",
    "import librosa\n",
    "import torch\n",
    "import torch.nn as nn\n",
    "import numpy as np\n",
    "from torch.utils.data import Dataset, DataLoader,random_split\n",
    "from torch.nn.utils.rnn import pad_sequence\n",
    "import random\n",
    "from librosa.effects import pitch_shift as librosa_pitch_shift\n",
    "from librosa.effects import time_stretch as librosa_time_stretch\n",
    "import seaborn as sns\n",
    "import matplotlib.pyplot as plt\n",
    "from sklearn.metrics import classification_report, confusion_matrix\n",
    "\n",
    "if torch.cuda.is_available():\n",
    "    device = torch.device(\"cuda\")  # Set device to GPU\n",
    "    print(f\"Using GPU: {torch.cuda.get_device_name(0)}\")\n",
    "else:\n",
    "    device = torch.device(\"cpu\")  # Fallback to CPU\n",
    "    print(\"CUDA is not available. Using CPU.\")"
   ]
  },
  {
   "cell_type": "markdown",
   "metadata": {
    "id": "qZZdTZvQJu50"
   },
   "source": [
    "# Idea"
   ]
  },
  {
   "cell_type": "markdown",
   "metadata": {
    "id": "_sZU0DqAGk8b"
   },
   "source": [
    "This is the basic idea:\n",
    "1) We load the .wav file using librosa.\n",
    "2) Use Mel Spectrogram\n",
    "3) Convert the Spectrogram array to a tensor.\n",
    "4) Do it for all .wav files using a class Dataloader\n",
    "5) Build an GRU and train it using the Dataloader\n",
    "6) Test and finetune."
   ]
  },
  {
   "cell_type": "markdown",
   "metadata": {},
   "source": [
    "# Data Augmentation Functions"
   ]
  },
  {
   "cell_type": "code",
   "execution_count": 2,
   "metadata": {},
   "outputs": [],
   "source": [
    "def add_noise(y, noise_factor=0.005):\n",
    "    noise = np.random.randn(len(y))\n",
    "    return y + noise_factor * noise\n",
    "\n",
    "def apply_time_stretch(y, rate=1.0):\n",
    "    if rate == 1.0:\n",
    "        return y\n",
    "    return librosa_time_stretch(y.astype(np.float32), rate=rate)\n"
   ]
  },
  {
   "cell_type": "markdown",
   "metadata": {
    "id": "VEejP4SHck8o"
   },
   "source": [
    "# Dataset & Dataloader"
   ]
  },
  {
   "cell_type": "code",
   "execution_count": 3,
   "metadata": {
    "id": "3ZHYilKIcpiR"
   },
   "outputs": [],
   "source": [
    "# Mel-Spectrogram\n",
    "class CoswaraDataset(Dataset):\n",
    "    def __init__(self, root_dir, sr=16000, n_mels=40, extensions=(\".wav\",), augment=False):\n",
    "        self.root_dir = root_dir\n",
    "        self.sr = sr\n",
    "        self.n_mels = n_mels\n",
    "        self.extensions = extensions\n",
    "        self.augment = augment\n",
    "\n",
    "        # Get class folders\n",
    "        self.classes = sorted(\n",
    "            entry.name for entry in os.scandir(root_dir) if entry.is_dir()\n",
    "        )\n",
    "        self.class_to_idx = {cls_name: idx for idx, cls_name in enumerate(self.classes)}\n",
    "\n",
    "        # Collect all (path, label)\n",
    "        self.samples = []\n",
    "        for cls_name in self.classes:\n",
    "            cls_folder = os.path.join(root_dir, cls_name)\n",
    "            for fname in os.listdir(cls_folder):\n",
    "                if fname.lower().endswith(self.extensions):\n",
    "                    path = os.path.join(cls_folder, fname)\n",
    "                    self.samples.append((path, self.class_to_idx[cls_name]))\n",
    "\n",
    "    def __len__(self):\n",
    "        return len(self.samples)\n",
    "\n",
    "    def __getitem__(self, idx):\n",
    "        path, label = self.samples[idx]\n",
    "\n",
    "        # Load audio\n",
    "        y, sr = librosa.load(path, sr=self.sr)\n",
    "\n",
    "        # Skip empty audio\n",
    "        if y.size == 0:\n",
    "            y = np.zeros(1024, dtype=np.float32)\n",
    "\n",
    "        # Trim silence\n",
    "        y, _ = librosa.effects.trim(y, top_db=20)\n",
    "\n",
    "        # Data augmentation\n",
    "        if self.augment and label == self.class_to_idx['Positive']:\n",
    "            # Add noise with 30% probability\n",
    "            if random.random() < 0.3:\n",
    "                y = add_noise(y)\n",
    "            # Time stretch with 30% probability\n",
    "            if random.random() < 0.3:\n",
    "                y = apply_time_stretch(y, rate=random.uniform(0.9, 1.1))\n",
    "\n",
    "        # Compute log-Mel spectrogram\n",
    "        mel_spec = librosa.feature.melspectrogram(y=y, sr=sr, n_mels=self.n_mels,n_fft=min(1024,len(y)))\n",
    "        log_mel_spec = librosa.power_to_db(mel_spec)  # (n_mels, time)\n",
    "        log_mel_spec = log_mel_spec.T                # (time, n_mels)\n",
    "\n",
    "        # Compute delta and delta-delta features\n",
    "        delta = librosa.feature.delta(log_mel_spec, order=1)   # first derivative\n",
    "        delta2 = librosa.feature.delta(log_mel_spec, order=2)  # second derivative\n",
    "\n",
    "        # Concatenate original + delta + delta-delta\n",
    "        log_mel_spec = np.concatenate([log_mel_spec, delta, delta2], axis=1)  # (time, n_mels*3)\n",
    "\n",
    "        # Normalize per feature\n",
    "        log_mel_spec = (log_mel_spec - np.mean(log_mel_spec, axis=0)) / \\\n",
    "                       (np.std(log_mel_spec, axis=0) + 1e-9)\n",
    "\n",
    "        # Convert to torch tensors\n",
    "        x = torch.tensor(log_mel_spec, dtype=torch.float32)\n",
    "        y = torch.tensor(label, dtype=torch.long)\n",
    "\n",
    "        return x, y\n"
   ]
  },
  {
   "cell_type": "code",
   "execution_count": 4,
   "metadata": {
    "id": "XZ6JnXTecuX_"
   },
   "outputs": [],
   "source": [
    "def collate_fn(batch):\n",
    "    xs, ys = zip(*batch)\n",
    "    xs_padded = pad_sequence(xs, batch_first=True)  # shape: (batch, max_time, feature_dim)\n",
    "    ys = torch.stack(ys)\n",
    "    return xs_padded, ys"
   ]
  },
  {
   "cell_type": "code",
   "execution_count": 5,
   "metadata": {
    "id": "CaixQwQuz_bZ"
   },
   "outputs": [],
   "source": [
    "full_dataset = CoswaraDataset('Voice_b',n_mels=30, augment=True)"
   ]
  },
  {
   "cell_type": "code",
   "execution_count": 6,
   "metadata": {},
   "outputs": [],
   "source": [
    "generator1 = torch.Generator().manual_seed(42)"
   ]
  },
  {
   "cell_type": "code",
   "execution_count": 7,
   "metadata": {},
   "outputs": [],
   "source": [
    "train_size = int(0.8 * len(full_dataset))\n",
    "test_size = len(full_dataset) - train_size\n",
    "train_dataset, test_dataset = random_split(full_dataset, [train_size, test_size],generator=generator1)"
   ]
  },
  {
   "cell_type": "code",
   "execution_count": 8,
   "metadata": {},
   "outputs": [
    {
     "data": {
      "text/plain": [
       "['Negative', 'Positive']"
      ]
     },
     "execution_count": 8,
     "metadata": {},
     "output_type": "execute_result"
    }
   ],
   "source": [
    "full_dataset.classes"
   ]
  },
  {
   "cell_type": "code",
   "execution_count": 9,
   "metadata": {
    "id": "1rJ4YodtdBT6"
   },
   "outputs": [],
   "source": [
    "train_dataloader = DataLoader(train_dataset,batch_size = 32,shuffle=True,collate_fn=collate_fn)\n",
    "test_dataloader = DataLoader(test_dataset,batch_size=32,shuffle=False,collate_fn=collate_fn)"
   ]
  },
  {
   "cell_type": "markdown",
   "metadata": {
    "id": "RXkdhZXwAIPS"
   },
   "source": [
    "# Model"
   ]
  },
  {
   "cell_type": "code",
   "execution_count": 10,
   "metadata": {},
   "outputs": [],
   "source": [
    "import torch\n",
    "import torch.nn as nn\n",
    "\n",
    "class CovidGRU(nn.Module):\n",
    "    def __init__(self, input_dim=120, hidden_dim=128, num_layers=1, fc_dim=64, \n",
    "                 num_classes=2, dropout=0.4, bidirectional=False):\n",
    "        super().__init__()\n",
    "\n",
    "        self.gru = nn.GRU(\n",
    "            input_dim,\n",
    "            hidden_dim,\n",
    "            num_layers=num_layers,\n",
    "            batch_first=True,\n",
    "            dropout=dropout if num_layers > 1 else 0.0,\n",
    "            bidirectional=bidirectional\n",
    "        )\n",
    "\n",
    "        gru_out_dim = hidden_dim * (2 if bidirectional else 1)\n",
    "\n",
    "        self.fc1 = nn.Linear(gru_out_dim, fc_dim)\n",
    "        self.relu = nn.ReLU()\n",
    "        self.dropout = nn.Dropout(dropout)\n",
    "        self.fc2 = nn.Linear(fc_dim, num_classes)\n",
    "\n",
    "    def forward(self, x):\n",
    "        # x: (batch, time, feature_dim)\n",
    "        out, _ = self.gru(x)  # out: (batch, time, hidden_dim)\n",
    "\n",
    "        # Mask to ignore zero-padded frames\n",
    "        mask = (x.abs().sum(dim=-1) != 0).float()  # (batch, time)\n",
    "\n",
    "        # Compute effective lengths to avoid divide-by-zero\n",
    "        lengths = mask.sum(dim=1, keepdim=True).clamp(min=1e-6)\n",
    "\n",
    "        # Weighted mean pooling\n",
    "        pooled = (out * mask.unsqueeze(-1)).sum(dim=1) / lengths  # (batch, hidden_dim)\n",
    "\n",
    "        # Fully connected classifier\n",
    "        x = self.fc1(pooled)\n",
    "        x = self.relu(x)\n",
    "        x = self.dropout(x)\n",
    "        logits = self.fc2(x)\n",
    "\n",
    "        return logits\n"
   ]
  },
  {
   "cell_type": "code",
   "execution_count": 11,
   "metadata": {
    "id": "6DpJqWtlEw9o"
   },
   "outputs": [],
   "source": [
    "in_dim = full_dataset[0][0].shape[1]\n",
    "num_layers = 2"
   ]
  },
  {
   "cell_type": "code",
   "execution_count": 12,
   "metadata": {
    "id": "0iRWpJpwERjX"
   },
   "outputs": [],
   "source": [
    "model  = CovidGRU(input_dim=in_dim,num_layers=num_layers)\n",
    "criterion = nn.CrossEntropyLoss()\n",
    "optimizer = torch.optim.Adam(model.parameters(), lr=0.0003,weight_decay=1e-5)\n",
    "scheduler = torch.optim.lr_scheduler.ReduceLROnPlateau(optimizer, mode='min', factor=0.5, patience=3)"
   ]
  },
  {
   "cell_type": "code",
   "execution_count": 13,
   "metadata": {},
   "outputs": [],
   "source": [
    "model = model.to(device)"
   ]
  },
  {
   "cell_type": "markdown",
   "metadata": {
    "id": "q6t2YRqHJz7p"
   },
   "source": [
    "# Training"
   ]
  },
  {
   "cell_type": "code",
   "execution_count": 14,
   "metadata": {},
   "outputs": [],
   "source": [
    "def train_model(model, criterion, optimizer, scheduler=None, num_epochs=10, patience=3):\n",
    "    best_val_acc = 0.0\n",
    "    patience_counter = 0\n",
    "\n",
    "    for epoch in range(num_epochs):\n",
    "        model.train()\n",
    "        running_loss = 0.0\n",
    "        running_corrects = 0\n",
    "\n",
    "        # --- Training loop ---\n",
    "        for inputs, labels in train_dataloader:\n",
    "            inputs = inputs.to(device)\n",
    "            labels = labels.to(device)\n",
    "\n",
    "            optimizer.zero_grad()\n",
    "            outputs = model(inputs)\n",
    "            loss = criterion(outputs, labels)\n",
    "            _, preds = torch.max(outputs, 1)\n",
    "\n",
    "            loss.backward()\n",
    "            torch.nn.utils.clip_grad_norm_(model.parameters(), max_norm=1.0)\n",
    "            optimizer.step()\n",
    "\n",
    "            running_loss += loss.item() * inputs.size(0)\n",
    "            running_corrects += torch.sum(preds == labels.data)\n",
    "\n",
    "        epoch_loss = running_loss / len(train_dataset)\n",
    "        epoch_acc = running_corrects.double() / len(train_dataset)\n",
    "        print(f'\\nEpoch {epoch+1}/{num_epochs}')\n",
    "        print(f'Train Loss: {epoch_loss:.4f}, Train Acc: {epoch_acc:.4f}')\n",
    "\n",
    "        # --- Validation loop ---\n",
    "        model.eval()\n",
    "        val_loss = 0.0\n",
    "        val_corrects = 0\n",
    "\n",
    "        with torch.no_grad():\n",
    "            for inputs, labels in test_dataloader:\n",
    "                inputs = inputs.to(device)\n",
    "                labels = labels.to(device)\n",
    "\n",
    "                outputs = model(inputs)\n",
    "                loss = criterion(outputs, labels)\n",
    "                _, preds = torch.max(outputs, 1)\n",
    "\n",
    "                val_loss += loss.item() * inputs.size(0)\n",
    "                val_corrects += torch.sum(preds == labels.data)\n",
    "\n",
    "        val_loss /= len(test_dataset)\n",
    "        val_acc = val_corrects.double() / len(test_dataset)\n",
    "        print(f'Val Loss: {val_loss:.4f}, Val Acc: {val_acc:.4f}')\n",
    "\n",
    "        # --- Step scheduler ---\n",
    "        if scheduler is not None:\n",
    "            scheduler.step(val_loss)\n",
    "\n",
    "        # --- Early stopping based on accuracy ---\n",
    "        if val_acc > best_val_acc:\n",
    "            best_val_acc = val_acc\n",
    "            patience_counter = 0\n",
    "            best_model_wts = model.state_dict().copy()\n",
    "            print(f'Validation accuracy improved. Saving model...')\n",
    "        else:\n",
    "            patience_counter += 1\n",
    "            if patience_counter >= patience:\n",
    "                print(f'\\nEarly stopping triggered at epoch {epoch+1}.')\n",
    "                model.load_state_dict(best_model_wts)\n",
    "                break\n",
    "\n",
    "    print('\\nTraining complete.')\n",
    "    print(f'Best Validation Accuracy: {best_val_acc:.4f}')\n",
    "    return model\n"
   ]
  },
  {
   "cell_type": "code",
   "execution_count": 15,
   "metadata": {},
   "outputs": [
    {
     "name": "stderr",
     "output_type": "stream",
     "text": [
      "C:\\Users\\david\\anaconda3\\envs\\MOSMED\\Lib\\site-packages\\librosa\\core\\spectrum.py:266: UserWarning: n_fft=2048 is too large for input signal of length=1024\n",
      "  warnings.warn(\n",
      "C:\\Users\\david\\anaconda3\\envs\\MOSMED\\Lib\\site-packages\\librosa\\core\\spectrum.py:266: UserWarning: n_fft=2048 is too large for input signal of length=1366\n",
      "  warnings.warn(\n"
     ]
    },
    {
     "name": "stdout",
     "output_type": "stream",
     "text": [
      "\n",
      "Epoch 1/20\n",
      "Train Loss: 0.6291, Train Acc: 0.7017\n",
      "Val Loss: 0.5875, Val Acc: 0.7137\n",
      "Validation accuracy improved. Saving model...\n",
      "\n",
      "Epoch 2/20\n",
      "Train Loss: 0.5933, Train Acc: 0.7066\n",
      "Val Loss: 0.5794, Val Acc: 0.7180\n",
      "Validation accuracy improved. Saving model...\n",
      "\n",
      "Epoch 3/20\n",
      "Train Loss: 0.5718, Train Acc: 0.7251\n",
      "Val Loss: 0.5591, Val Acc: 0.7332\n",
      "Validation accuracy improved. Saving model...\n",
      "\n",
      "Epoch 4/20\n",
      "Train Loss: 0.5500, Train Acc: 0.7381\n",
      "Val Loss: 0.5279, Val Acc: 0.7570\n",
      "Validation accuracy improved. Saving model...\n",
      "\n",
      "Epoch 5/20\n",
      "Train Loss: 0.5246, Train Acc: 0.7592\n",
      "Val Loss: 0.5146, Val Acc: 0.7614\n",
      "Validation accuracy improved. Saving model...\n",
      "\n",
      "Epoch 6/20\n",
      "Train Loss: 0.4920, Train Acc: 0.7690\n",
      "Val Loss: 0.5187, Val Acc: 0.7636\n",
      "Validation accuracy improved. Saving model...\n",
      "\n",
      "Epoch 7/20\n",
      "Train Loss: 0.4766, Train Acc: 0.7885\n",
      "Val Loss: 0.5217, Val Acc: 0.7701\n",
      "Validation accuracy improved. Saving model...\n",
      "\n",
      "Epoch 8/20\n",
      "Train Loss: 0.4548, Train Acc: 0.7972\n",
      "Val Loss: 0.5360, Val Acc: 0.7679\n",
      "\n",
      "Epoch 9/20\n",
      "Train Loss: 0.4383, Train Acc: 0.8097\n",
      "Val Loss: 0.5579, Val Acc: 0.7570\n",
      "\n",
      "Epoch 10/20\n",
      "Train Loss: 0.4197, Train Acc: 0.8227\n",
      "Val Loss: 0.5431, Val Acc: 0.7636\n",
      "\n",
      "Epoch 11/20\n",
      "Train Loss: 0.4002, Train Acc: 0.8335\n",
      "Val Loss: 0.5356, Val Acc: 0.7440\n",
      "\n",
      "Epoch 12/20\n",
      "Train Loss: 0.3851, Train Acc: 0.8444\n",
      "Val Loss: 0.5494, Val Acc: 0.7852\n",
      "Validation accuracy improved. Saving model...\n",
      "\n",
      "Epoch 13/20\n",
      "Train Loss: 0.3717, Train Acc: 0.8557\n",
      "Val Loss: 0.5785, Val Acc: 0.7245\n",
      "\n",
      "Epoch 14/20\n",
      "Train Loss: 0.3613, Train Acc: 0.8612\n",
      "Val Loss: 0.5904, Val Acc: 0.7397\n",
      "\n",
      "Epoch 15/20\n",
      "Train Loss: 0.3545, Train Acc: 0.8693\n",
      "Val Loss: 0.6274, Val Acc: 0.7202\n",
      "\n",
      "Epoch 16/20\n",
      "Train Loss: 0.3635, Train Acc: 0.8606\n",
      "Val Loss: 0.6039, Val Acc: 0.7484\n",
      "\n",
      "Epoch 17/20\n",
      "Train Loss: 0.3435, Train Acc: 0.8704\n",
      "Val Loss: 0.5844, Val Acc: 0.7527\n",
      "\n",
      "Early stopping triggered at epoch 17.\n",
      "\n",
      "Training complete.\n",
      "Best Validation Accuracy: 0.7852\n"
     ]
    },
    {
     "data": {
      "text/plain": [
       "CovidGRU(\n",
       "  (gru): GRU(90, 128, num_layers=2, batch_first=True, dropout=0.4)\n",
       "  (fc1): Linear(in_features=128, out_features=64, bias=True)\n",
       "  (relu): ReLU()\n",
       "  (dropout): Dropout(p=0.4, inplace=False)\n",
       "  (fc2): Linear(in_features=64, out_features=2, bias=True)\n",
       ")"
      ]
     },
     "execution_count": 15,
     "metadata": {},
     "output_type": "execute_result"
    }
   ],
   "source": [
    "train_model(model, criterion, optimizer, num_epochs=20,scheduler=scheduler,patience=5)"
   ]
  },
  {
   "cell_type": "markdown",
   "metadata": {},
   "source": [
    "# Saving Model"
   ]
  },
  {
   "cell_type": "code",
   "execution_count": 16,
   "metadata": {},
   "outputs": [],
   "source": [
    "torch.save(model, \"gru_cough_b.pth\")"
   ]
  },
  {
   "cell_type": "markdown",
   "metadata": {},
   "source": [
    "# Evaluation"
   ]
  },
  {
   "cell_type": "code",
   "execution_count": 22,
   "metadata": {},
   "outputs": [],
   "source": [
    "# model = torch.load('gru_cough_b.pth')"
   ]
  },
  {
   "cell_type": "markdown",
   "metadata": {},
   "source": [
    "## Classification Report"
   ]
  },
  {
   "cell_type": "code",
   "execution_count": 17,
   "metadata": {},
   "outputs": [],
   "source": [
    "model.eval()\n",
    "\n",
    "all_preds = []\n",
    "all_labels = []\n",
    "\n",
    "with torch.no_grad():\n",
    "    for inputs, labels in test_dataloader:\n",
    "        inputs, labels = inputs.to(device), labels.to(device)\n",
    "        outputs = model(inputs)\n",
    "        preds = outputs.argmax(1)\n",
    "        \n",
    "        all_preds.extend(preds.cpu().numpy())\n",
    "        all_labels.extend(labels.cpu().numpy())\n",
    "\n",
    "# Convert to numpy arrays\n",
    "all_preds = np.array(all_preds)\n",
    "all_labels = np.array(all_labels)\n"
   ]
  },
  {
   "cell_type": "code",
   "execution_count": 18,
   "metadata": {},
   "outputs": [
    {
     "name": "stdout",
     "output_type": "stream",
     "text": [
      "Classification Report:\n",
      "\n",
      "              precision    recall  f1-score   support\n",
      "\n",
      "    Negative       0.82      0.84      0.83       329\n",
      "    Positive       0.57      0.55      0.56       132\n",
      "\n",
      "    accuracy                           0.75       461\n",
      "   macro avg       0.70      0.69      0.70       461\n",
      "weighted avg       0.75      0.75      0.75       461\n",
      "\n"
     ]
    }
   ],
   "source": [
    "print(\"Classification Report:\\n\")\n",
    "print(classification_report(all_labels, all_preds, target_names=full_dataset.classes))"
   ]
  },
  {
   "cell_type": "markdown",
   "metadata": {},
   "source": [
    "## Confusion Matrix"
   ]
  },
  {
   "cell_type": "code",
   "execution_count": 19,
   "metadata": {},
   "outputs": [],
   "source": [
    "cm = confusion_matrix(all_labels, all_preds)"
   ]
  },
  {
   "cell_type": "code",
   "execution_count": 21,
   "metadata": {},
   "outputs": [
    {
     "data": {
      "image/png": "[encoded data removed]",
      "text/plain": [
       "<Figure size 800x600 with 2 Axes>"
      ]
     },
     "metadata": {},
     "output_type": "display_data"
    }
   ],
   "source": [
    "import seaborn as sns\n",
    "\n",
    "plt.figure(figsize=(8,6))\n",
    "ax = sns.heatmap(cm, annot=True, fmt=\"d\", cmap=\"Blues\",\n",
    "                 xticklabels=full_dataset.classes,\n",
    "                 yticklabels=full_dataset.classes)\n",
    "\n",
    "# Set tick label colors\n",
    "for tick_label in ax.get_xticklabels():\n",
    "    tick_label.set_color('red')  # X-axis labels in red\n",
    "\n",
    "for tick_label in ax.get_yticklabels():\n",
    "    tick_label.set_color('green')  # Y-axis labels in green\n",
    "\n",
    "plt.xlabel(\"Predicted\")\n",
    "plt.ylabel(\"True\")\n",
    "plt.title(\"Confusion Matrix\")\n",
    "# plt.savefig(\"gru_confusion_matrix_b.png\", bbox_inches='tight')\n",
    "plt.show()\n"
   ]
  }
 ],
 "metadata": {
  "colab": {
   "collapsed_sections": [
    "I3KWrAkZAiUJ",
    "qZZdTZvQJu50",
    "VEejP4SHck8o",
    "RXkdhZXwAIPS",
    "q6t2YRqHJz7p"
   ],
   "provenance": []
  },
  "kernelspec": {
   "display_name": "Python 3 (ipykernel)",
   "language": "python",
   "name": "python3"
  },
  "language_info": {
   "codemirror_mode": {
    "name": "ipython",
    "version": 3
   },
   "file_extension": ".py",
   "mimetype": "text/x-python",
   "name": "python",
   "nbconvert_exporter": "python",
   "pygments_lexer": "ipython3",
   "version": "3.12.3"
  }
 },
 "nbformat": 4,
 "nbformat_minor": 4
}
