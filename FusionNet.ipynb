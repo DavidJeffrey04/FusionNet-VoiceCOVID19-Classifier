{
 "cells": [
  {
   "cell_type": "markdown",
   "id": "d70658de-23ec-45e4-ac8e-b99bc3ad9219",
   "metadata": {},
   "source": [
    "# Imports"
   ]
  },
  {
   "cell_type": "code",
   "execution_count": 23,
   "id": "8a7ba176-7003-41f5-8e14-0b143e5172ab",
   "metadata": {},
   "outputs": [
    {
     "name": "stdout",
     "output_type": "stream",
     "text": [
      "Using GPU: NVIDIA GeForce RTX 4060 Laptop GPU\n"
     ]
    }
   ],
   "source": [
    "import zipfile\n",
    "import os\n",
    "import librosa\n",
    "import torch\n",
    "import torch.nn as nn\n",
    "import torch.nn.functional as F\n",
    "import numpy as np\n",
    "from torch.utils.data import Dataset, DataLoader,random_split\n",
    "from torch.nn.utils.rnn import pad_sequence\n",
    "import random\n",
    "from librosa.effects import pitch_shift as librosa_pitch_shift\n",
    "from librosa.effects import time_stretch as librosa_time_stretch\n",
    "import seaborn as sns\n",
    "import matplotlib.pyplot as plt\n",
    "from sklearn.metrics import classification_report, confusion_matrix\n",
    "\n",
    "if torch.cuda.is_available():\n",
    "    device = torch.device(\"cuda\")  # Set device to GPU\n",
    "    print(f\"Using GPU: {torch.cuda.get_device_name(0)}\")\n",
    "else:\n",
    "    device = torch.device(\"cpu\")  # Fallback to CPU\n",
    "    print(\"CUDA is not available. Using CPU.\")"
   ]
  },
  {
   "cell_type": "markdown",
   "id": "501e636a-c080-4305-8b1a-36c3d01efeee",
   "metadata": {},
   "source": [
    "# Data Pre-Processing"
   ]
  },
  {
   "cell_type": "code",
   "execution_count": 24,
   "id": "df6a0dcb-1b9b-4270-b0c9-6b60988667d1",
   "metadata": {},
   "outputs": [],
   "source": [
    "def extract_logmel_features(path, sr=16000, n_mels=40):\n",
    "    y, sr = librosa.load(path, sr=sr)\n",
    "    if len(y) == 0:\n",
    "        y = np.zeros(1024, dtype=np.float32)\n",
    "\n",
    "    y, _ = librosa.effects.trim(y, top_db=20)\n",
    "\n",
    "    mel = librosa.feature.melspectrogram(\n",
    "        y=y, sr=sr, n_mels=n_mels, n_fft=min(1024, len(y))\n",
    "    )\n",
    "    logmel = librosa.power_to_db(mel).T\n",
    "    delta = librosa.feature.delta(logmel, order=1)\n",
    "    delta2 = librosa.feature.delta(logmel, order=2)\n",
    "    logmel = np.concatenate([logmel, delta, delta2], axis=1)\n",
    "    logmel = (logmel - np.mean(logmel, axis=0)) / (np.std(logmel, axis=0) + 1e-9)\n",
    "    return torch.tensor(logmel, dtype=torch.float32)\n"
   ]
  },
  {
   "cell_type": "code",
   "execution_count": 25,
   "id": "5e8838a1-a7e5-45d9-b0e4-0a0f65e6c7ee",
   "metadata": {},
   "outputs": [],
   "source": [
    "class CoswaraFusionDataset(Dataset):\n",
    "    def __init__(self, root_dir):\n",
    "        self.root_dir = root_dir\n",
    "        self.voice_types = [\"breathing-deep\", \"cough-heavy\", \"counting-normal\", \"vowel-a\"]\n",
    "        self.data = []\n",
    "\n",
    "        # Construct voice_b paths\n",
    "        self.voice_paths = {\n",
    "            v: os.path.join(v, \"Voice_b\") for v in self.voice_types\n",
    "        }\n",
    "\n",
    "        for label_name in [\"Positive\", \"Negative\"]:\n",
    "            label = 1 if label_name == \"Positive\" else 0\n",
    "            # pick files from cough folder as anchor\n",
    "            folder = os.path.join(self.voice_paths[\"cough-heavy\"], label_name)\n",
    "            files = [f for f in os.listdir(folder) if f.endswith(\".wav\")]\n",
    "            for f in files:\n",
    "                base_id = f.split(\"_\")[0]  # e.g. 00xKcQMmcAhX8CODgBBLOe7Dm0T2\n",
    "                entry = {}\n",
    "                valid = True\n",
    "                for v in self.voice_types:\n",
    "                    target_path = os.path.join(\n",
    "                        self.voice_paths[v], label_name, f\"{base_id}_{v}.wav\"\n",
    "                    )\n",
    "                    if os.path.exists(target_path):\n",
    "                        entry[v] = target_path\n",
    "                    else:\n",
    "                        valid = False\n",
    "                        break\n",
    "                if valid:\n",
    "                    entry[\"label\"] = label\n",
    "                    self.data.append(entry)\n",
    "\n",
    "    def __len__(self):\n",
    "        return len(self.data)\n",
    "\n",
    "    def __getitem__(self, idx):\n",
    "        entry = self.data[idx]\n",
    "        label = torch.tensor(entry[\"label\"], dtype=torch.long)\n",
    "        feats = []\n",
    "        for v in self.voice_types:\n",
    "            feats.append(extract_logmel_features(entry[v],n_mels=30))\n",
    "        return feats, label  # list of 4 tensors, label"
   ]
  },
  {
   "cell_type": "code",
   "execution_count": 26,
   "id": "d22762d8-b261-4dd3-bb9a-ecb60e08e2bd",
   "metadata": {},
   "outputs": [],
   "source": [
    "def fusion_collate_fn(batch):\n",
    "    # Unzip batch into separate modality lists\n",
    "    data, labels = zip(*batch)\n",
    "    breathing_list, cough_list, count_list, vowel_list = zip(*data)\n",
    "\n",
    "    # Pad each modality\n",
    "    breathing_padded = pad_sequence(breathing_list, batch_first=True)  # (B, T_max, F)\n",
    "    cough_padded = pad_sequence(cough_list, batch_first=True)\n",
    "    count_padded = pad_sequence(count_list, batch_first=True)\n",
    "    vowel_padded = pad_sequence(vowel_list, batch_first=True)\n",
    "\n",
    "    # Stack labels\n",
    "    labels = torch.stack(labels)\n",
    "\n",
    "    return breathing_padded, cough_padded, count_padded, vowel_padded, labels\n"
   ]
  },
  {
   "cell_type": "code",
   "execution_count": 27,
   "id": "e72dfffc-4a81-408e-b3b6-c3a0d85a95c4",
   "metadata": {},
   "outputs": [],
   "source": [
    "class FusionNet(nn.Module):\n",
    "    def __init__(self, num_models=4, num_classes=2):\n",
    "        super().__init__()\n",
    "        self.fc = nn.Linear(num_models * num_classes, num_classes)\n",
    "\n",
    "    def forward(self, probs_list):\n",
    "        # probs_list: list of 4 probability tensors [batch, num_classes]\n",
    "        concat = torch.cat(probs_list, dim=1)\n",
    "        out = self.fc(concat)\n",
    "        return out\n"
   ]
  },
  {
   "cell_type": "code",
   "execution_count": 28,
   "id": "6600c3a3-e47a-442a-b4f2-b3ee3a243c4d",
   "metadata": {},
   "outputs": [],
   "source": [
    "def load_pretrained_models():\n",
    "    model_paths = {\n",
    "        \"breathing\": \"gru_breathing_b.pth\",\n",
    "        \"cough\": \"gru_cough_b.pth\",\n",
    "        \"count\": \"gru_counting_b.pth\",\n",
    "        \"vowel\": \"gru_vowel_b.pth\",\n",
    "    }\n",
    "    models = {}\n",
    "    for k, p in model_paths.items():\n",
    "        models[k] = torch.load(p, map_location=device)\n",
    "        models[k].eval()\n",
    "    return models"
   ]
  },
  {
   "cell_type": "code",
   "execution_count": 29,
   "id": "1369ca84-fcd1-46ac-92c5-2d9ae16d7722",
   "metadata": {},
   "outputs": [],
   "source": [
    "root = \"Coswara\"  # your dataset main folder\n",
    "dataset = CoswaraFusionDataset(root)\n",
    "train_size = int(0.8 * len(dataset))\n",
    "val_size = len(dataset) - train_size\n",
    "train_set, val_set = random_split(dataset, [train_size, val_size])"
   ]
  },
  {
   "cell_type": "code",
   "execution_count": 30,
   "id": "42140232-386d-44be-98d6-a561d387b2a3",
   "metadata": {},
   "outputs": [],
   "source": [
    "train_loader = DataLoader(train_set, batch_size=13, shuffle=True,collate_fn=fusion_collate_fn)\n",
    "val_loader = DataLoader(val_set, batch_size=13, shuffle=False,collate_fn=fusion_collate_fn)"
   ]
  },
  {
   "cell_type": "markdown",
   "id": "d567ae11-9161-4c19-bfa2-91d54c7cf737",
   "metadata": {},
   "source": [
    "# Model"
   ]
  },
  {
   "cell_type": "code",
   "execution_count": 31,
   "id": "a3c06d74-e215-4da9-81ae-b94e48835795",
   "metadata": {},
   "outputs": [],
   "source": [
    "class CovidGRU(nn.Module):\n",
    "    def __init__(self, input_dim=120, hidden_dim=128, num_layers=1, fc_dim=64, \n",
    "                 num_classes=2, dropout=0.4, bidirectional=False):\n",
    "        super().__init__()\n",
    "\n",
    "        self.gru = nn.GRU(\n",
    "            input_dim,\n",
    "            hidden_dim,\n",
    "            num_layers=num_layers,\n",
    "            batch_first=True,\n",
    "            dropout=dropout if num_layers > 1 else 0.0,\n",
    "            bidirectional=bidirectional\n",
    "        )\n",
    "\n",
    "        gru_out_dim = hidden_dim * (2 if bidirectional else 1)\n",
    "\n",
    "        self.fc1 = nn.Linear(gru_out_dim, fc_dim)\n",
    "        self.relu = nn.ReLU()\n",
    "        self.dropout = nn.Dropout(dropout)\n",
    "        self.fc2 = nn.Linear(fc_dim, num_classes)\n",
    "\n",
    "    def forward(self, x):\n",
    "        # x: (batch, time, feature_dim)\n",
    "        out, _ = self.gru(x)  # out: (batch, time, hidden_dim)\n",
    "\n",
    "        # Mask to ignore zero-padded frames\n",
    "        mask = (x.abs().sum(dim=-1) != 0).float()  # (batch, time)\n",
    "\n",
    "        # Compute effective lengths to avoid divide-by-zero\n",
    "        lengths = mask.sum(dim=1, keepdim=True).clamp(min=1e-6)\n",
    "\n",
    "        # Weighted mean pooling\n",
    "        pooled = (out * mask.unsqueeze(-1)).sum(dim=1) / lengths  # (batch, hidden_dim)\n",
    "\n",
    "        # Fully connected classifier\n",
    "        x = self.fc1(pooled)\n",
    "        x = self.relu(x)\n",
    "        x = self.dropout(x)\n",
    "        logits = self.fc2(x)\n",
    "\n",
    "        return logits"
   ]
  },
  {
   "cell_type": "code",
   "execution_count": 32,
   "id": "f5e0a0e7-9948-431c-aeb7-7a7d9c831943",
   "metadata": {},
   "outputs": [
    {
     "name": "stderr",
     "output_type": "stream",
     "text": [
      "C:\\Users\\david\\AppData\\Local\\Temp\\ipykernel_27696\\3791348744.py:10: FutureWarning: You are using `torch.load` with `weights_only=False` (the current default value), which uses the default pickle module implicitly. It is possible to construct malicious pickle data which will execute arbitrary code during unpickling (See https://github.com/pytorch/pytorch/blob/main/SECURITY.md#untrusted-models for more details). In a future release, the default value for `weights_only` will be flipped to `True`. This limits the functions that could be executed during unpickling. Arbitrary objects will no longer be allowed to be loaded via this mode unless they are explicitly allowlisted by the user via `torch.serialization.add_safe_globals`. We recommend you start setting `weights_only=True` for any use case where you don't have full control of the loaded file. Please open an issue on GitHub for any issues related to this experimental feature.\n",
      "  models[k] = torch.load(p, map_location=device)\n"
     ]
    }
   ],
   "source": [
    "pretrained = load_pretrained_models()\n",
    "fusion_model = FusionNet(num_models=4, num_classes=2)"
   ]
  },
  {
   "cell_type": "markdown",
   "id": "cf6931f5-8d08-418c-a7a4-1799ee34d7ef",
   "metadata": {},
   "source": [
    "# Training"
   ]
  },
  {
   "cell_type": "code",
   "execution_count": 33,
   "id": "410d7524-423a-4ec5-ac3d-1fb79e308e16",
   "metadata": {},
   "outputs": [],
   "source": [
    "def evaluate_fusion(fusion_model, pretrained_models, dataloader, device=\"cpu\"):\n",
    "    fusion_model.eval()\n",
    "    correct, total, total_loss = 0, 0, 0\n",
    "    criterion = nn.CrossEntropyLoss()\n",
    "\n",
    "    with torch.no_grad():\n",
    "        for val_data in dataloader:\n",
    "            labels=val_data[-1]\n",
    "            feats = val_data[:-1]\n",
    "            labels = labels.to(device)\n",
    "            probs_list = []\n",
    "            for i, (key, model) in enumerate(pretrained_models.items()):\n",
    "                x = feats[i].to(device)\n",
    "                out = model(x)\n",
    "                probs = F.softmax(out, dim=1)\n",
    "                probs_list.append(probs)\n",
    "\n",
    "            fusion_out = fusion_model(probs_list)\n",
    "            loss = criterion(fusion_out, labels)\n",
    "            total_loss += loss.item()\n",
    "            preds = fusion_out.argmax(1)\n",
    "            correct += (preds == labels).sum().item()\n",
    "            total += labels.size(0)\n",
    "\n",
    "    acc = correct / total\n",
    "    avg_loss = total_loss / len(dataloader)\n",
    "    return avg_loss, acc"
   ]
  },
  {
   "cell_type": "code",
   "execution_count": 34,
   "id": "5cc6de4f-a49b-4683-af33-1f625be7633a",
   "metadata": {},
   "outputs": [],
   "source": [
    "def train_fusion(fusion_model, pretrained_models, train_loader, val_loader,\n",
    "                 device=\"cpu\", epochs=10):\n",
    "    optimizer = torch.optim.Adam(fusion_model.parameters(), lr=1e-3)\n",
    "    criterion = nn.CrossEntropyLoss()\n",
    "    fusion_model.to(device)\n",
    "\n",
    "    for epoch in range(epochs):\n",
    "        fusion_model.train()\n",
    "        total_loss, correct, total = 0, 0, 0\n",
    "\n",
    "        for data in train_loader:\n",
    "            labels=data[-1]\n",
    "            feats = data[:-1]\n",
    "            labels = labels.to(device)\n",
    "            probs_list = []\n",
    "            for i, (key, model) in enumerate(pretrained_models.items()):\n",
    "                x = feats[i].to(device)\n",
    "                # print(x.shape)\n",
    "                with torch.no_grad():\n",
    "                    out = model(x)\n",
    "                    probs = F.softmax(out, dim=1)\n",
    "                probs_list.append(probs)\n",
    "\n",
    "            fusion_out = fusion_model(probs_list)\n",
    "            loss = criterion(fusion_out, labels)\n",
    "\n",
    "            optimizer.zero_grad()\n",
    "            loss.backward()\n",
    "            optimizer.step()\n",
    "\n",
    "            total_loss += loss.item()\n",
    "            preds = fusion_out.argmax(1)\n",
    "            correct += (preds == labels).sum().item()\n",
    "            total += labels.size(0)\n",
    "\n",
    "        train_acc = correct / total\n",
    "        train_loss = total_loss / len(train_loader)\n",
    "\n",
    "        val_loss, val_acc = evaluate_fusion(fusion_model, pretrained_models, val_loader, device)\n",
    "        print(f\"Epoch {epoch+1:02d} | \"\n",
    "              f\"Train Loss={train_loss:.4f} Acc={train_acc:.4f} | \"\n",
    "              f\"Val Loss={val_loss:.4f} Acc={val_acc:.4f}\")\n",
    "\n",
    "    return fusion_model"
   ]
  },
  {
   "cell_type": "code",
   "execution_count": 35,
   "id": "0171cf2d-2aa0-419c-9ab4-f39b17986bd0",
   "metadata": {},
   "outputs": [
    {
     "name": "stdout",
     "output_type": "stream",
     "text": [
      "Epoch 01 | Train Loss=0.8514 Acc=0.2874 | Val Loss=0.6924 Acc=0.6291\n",
      "Epoch 02 | Train Loss=0.6176 Acc=0.7364 | Val Loss=0.5460 Acc=0.7918\n",
      "Epoch 03 | Train Loss=0.5181 Acc=0.7880 | Val Loss=0.4731 Acc=0.8265\n",
      "Epoch 04 | Train Loss=0.4632 Acc=0.8221 | Val Loss=0.4303 Acc=0.8482\n",
      "Epoch 05 | Train Loss=0.4296 Acc=0.8351 | Val Loss=0.4031 Acc=0.8568\n",
      "Epoch 06 | Train Loss=0.4081 Acc=0.8422 | Val Loss=0.3853 Acc=0.8395\n",
      "Epoch 07 | Train Loss=0.3928 Acc=0.8433 | Val Loss=0.3721 Acc=0.8482\n",
      "Epoch 08 | Train Loss=0.3826 Acc=0.8454 | Val Loss=0.3645 Acc=0.8460\n",
      "Epoch 09 | Train Loss=0.3756 Acc=0.8476 | Val Loss=0.3570 Acc=0.8482\n",
      "Epoch 10 | Train Loss=0.3703 Acc=0.8471 | Val Loss=0.3535 Acc=0.8568\n"
     ]
    }
   ],
   "source": [
    "trained_fusion = train_fusion(\n",
    "        fusion_model, pretrained, train_loader, val_loader,\n",
    "        device=device, epochs=10\n",
    "    )"
   ]
  },
  {
   "cell_type": "markdown",
   "id": "310d8aeb-a9a8-41a8-91ba-2624476ef283",
   "metadata": {},
   "source": [
    "# Evaluation"
   ]
  },
  {
   "cell_type": "code",
   "execution_count": 44,
   "id": "f829f0ad-a802-414f-bcb2-85bd3a4f8824",
   "metadata": {},
   "outputs": [],
   "source": [
    "trained_fusion.eval()\n",
    "\n",
    "all_preds = []\n",
    "all_labels = []\n",
    "\n",
    "with torch.no_grad():\n",
    "    for val_data in val_loader:\n",
    "        labels=val_data[-1]\n",
    "        feats = val_data[:-1]\n",
    "        labels = labels.to(device)\n",
    "        probs_list = []\n",
    "        for i, (key, model) in enumerate(pretrained.items()):\n",
    "            x = feats[i].to(device)\n",
    "            out = model(x)\n",
    "            probs = F.softmax(out, dim=1)\n",
    "            probs_list.append(probs)\n",
    "    \n",
    "        fusion_out = trained_fusion(probs_list)\n",
    "        \n",
    "        preds = fusion_out.argmax(1)\n",
    "        \n",
    "        all_preds.extend(preds.cpu().numpy())\n",
    "        all_labels.extend(labels.cpu().numpy())\n",
    "\n",
    "# Convert to numpy arrays\n",
    "all_preds = np.array(all_preds)\n",
    "all_labels = np.array(all_labels)\n"
   ]
  },
  {
   "cell_type": "code",
   "execution_count": 45,
   "id": "113feadf-53fc-4792-8c8d-930b389148b8",
   "metadata": {},
   "outputs": [],
   "source": [
    "# torch.save(model, \"fusion-net_b.pth\")"
   ]
  },
  {
   "cell_type": "code",
   "execution_count": 46,
   "id": "2a6a81ff-561b-44f9-8625-998b16524ac2",
   "metadata": {},
   "outputs": [
    {
     "name": "stdout",
     "output_type": "stream",
     "text": [
      "Classification Report:\n",
      "\n",
      "              precision    recall  f1-score   support\n",
      "\n",
      "    Negative       0.88      0.93      0.90       339\n",
      "    Positive       0.76      0.66      0.71       122\n",
      "\n",
      "    accuracy                           0.86       461\n",
      "   macro avg       0.82      0.80      0.81       461\n",
      "weighted avg       0.85      0.86      0.85       461\n",
      "\n"
     ]
    }
   ],
   "source": [
    "print(\"Classification Report:\\n\")\n",
    "print(classification_report(all_labels, all_preds, target_names=['Negative', 'Positive']))"
   ]
  },
  {
   "cell_type": "code",
   "execution_count": 47,
   "id": "a7f65fa4-e505-4535-a4e1-28218e7ef457",
   "metadata": {},
   "outputs": [],
   "source": [
    "cm = confusion_matrix(all_labels, all_preds)"
   ]
  },
  {
   "cell_type": "code",
   "execution_count": 49,
   "id": "60c06bce-c667-4ba7-971b-55541de14a1e",
   "metadata": {},
   "outputs": [
    {
     "data": {
      "image/png": "[encoded data removed]",
      "text/plain": [
       "<Figure size 800x600 with 2 Axes>"
      ]
     },
     "metadata": {},
     "output_type": "display_data"
    }
   ],
   "source": [
    "import seaborn as sns\n",
    "\n",
    "plt.figure(figsize=(8,6))\n",
    "ax = sns.heatmap(cm, annot=True, fmt=\"d\", cmap=\"Blues\",\n",
    "                 xticklabels=['Negative', 'Positive'],\n",
    "                 yticklabels=['Negative', 'Positive'])\n",
    "\n",
    "# Set tick label colors\n",
    "for tick_label in ax.get_xticklabels():\n",
    "    tick_label.set_color('red')  # X-axis labels in red\n",
    "\n",
    "for tick_label in ax.get_yticklabels():\n",
    "    tick_label.set_color('green')  # Y-axis labels in green\n",
    "\n",
    "plt.xlabel(\"Predicted\")\n",
    "plt.ylabel(\"True\")\n",
    "plt.title(\"Confusion Matrix\")\n",
    "# plt.savefig(\"fusion-net_confusion_matrix_b.png\", bbox_inches='tight')\n",
    "plt.show()\n"
   ]
  }
 ],
 "metadata": {
  "kernelspec": {
   "display_name": "Python 3 (ipykernel)",
   "language": "python",
   "name": "python3"
  },
  "language_info": {
   "codemirror_mode": {
    "name": "ipython",
    "version": 3
   },
   "file_extension": ".py",
   "mimetype": "text/x-python",
   "name": "python",
   "nbconvert_exporter": "python",
   "pygments_lexer": "ipython3",
   "version": "3.12.3"
  }
 },
 "nbformat": 4,
 "nbformat_minor": 5
}
